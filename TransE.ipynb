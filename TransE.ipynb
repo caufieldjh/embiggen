{
 "cells": [
  {
   "cell_type": "code",
   "execution_count": 1,
   "metadata": {},
   "outputs": [
    {
     "name": "stderr",
     "output_type": "stream",
     "text": [
      "Using TensorFlow backend.\n"
     ]
    }
   ],
   "source": [
    "from ensmallen_graph.datasets.linqs import Cora\n",
    "from embiggen.embedders import TransE"
   ]
  },
  {
   "cell_type": "code",
   "execution_count": 2,
   "metadata": {},
   "outputs": [],
   "source": [
    "cora = Cora()"
   ]
  },
  {
   "cell_type": "code",
   "execution_count": 3,
   "metadata": {},
   "outputs": [
    {
     "name": "stderr",
     "output_type": "stream",
     "text": [
      "/Users/lucacappelletti/github/embiggen/embiggen/embedders/siamese.py:79: UserWarning: The graph contains disconnected nodes: these nodes will not be embedded in a semantically sensible way, but will only obtain a random node embedding vector which is from all other nodes.\n",
      "  \"The graph contains disconnected nodes: these nodes will \"\n"
     ]
    }
   ],
   "source": [
    "model = TransE(cora)"
   ]
  },
  {
   "cell_type": "code",
   "execution_count": 4,
   "metadata": {},
   "outputs": [
    {
     "name": "stdout",
     "output_type": "stream",
     "text": [
      "Model: \"TransE\"\n",
      "__________________________________________________________________________________________________\n",
      "Layer (type)                    Output Shape         Param #     Connected to                     \n",
      "==================================================================================================\n",
      "source_nodes (InputLayer)       [(None, 1)]          0                                            \n",
      "__________________________________________________________________________________________________\n",
      "destination_edge_types (InputLa [(None, 1)]          0                                            \n",
      "__________________________________________________________________________________________________\n",
      "terms_embedding_layer (Embeddin (None, 1, 100)       414100      source_nodes[0][0]               \n",
      "                                                                 destination_nodes[0][0]          \n",
      "__________________________________________________________________________________________________\n",
      "edge_type_embedding_layer (Embe (None, 1, 100)       200         destination_edge_types[0][0]     \n",
      "__________________________________________________________________________________________________\n",
      "destination_nodes (InputLayer)  [(None, 1)]          0                                            \n",
      "__________________________________________________________________________________________________\n",
      "tf.math.square (TFOpLambda)     (None, 1, 100)       0           terms_embedding_layer[0][0]      \n",
      "__________________________________________________________________________________________________\n",
      "tf.math.square_2 (TFOpLambda)   (None, 1, 100)       0           edge_type_embedding_layer[0][0]  \n",
      "__________________________________________________________________________________________________\n",
      "tf.math.reduce_sum (TFOpLambda) (1, 1, 100)          0           tf.math.square[0][0]             \n",
      "__________________________________________________________________________________________________\n",
      "tf.math.reduce_sum_2 (TFOpLambd (1, 1, 100)          0           tf.math.square_2[0][0]           \n",
      "__________________________________________________________________________________________________\n",
      "tf.math.square_1 (TFOpLambda)   (None, 1, 100)       0           terms_embedding_layer[1][0]      \n",
      "__________________________________________________________________________________________________\n",
      "tf.clip_by_value (TFOpLambda)   (1, 1, 100)          0           tf.math.reduce_sum[0][0]         \n",
      "__________________________________________________________________________________________________\n",
      "tf.clip_by_value_2 (TFOpLambda) (1, 1, 100)          0           tf.math.reduce_sum_2[0][0]       \n",
      "__________________________________________________________________________________________________\n",
      "tf.math.reduce_sum_1 (TFOpLambd (1, 1, 100)          0           tf.math.square_1[0][0]           \n",
      "__________________________________________________________________________________________________\n",
      "tf.math.sqrt (TFOpLambda)       (1, 1, 100)          0           tf.clip_by_value[0][0]           \n",
      "__________________________________________________________________________________________________\n",
      "tf.math.sqrt_2 (TFOpLambda)     (1, 1, 100)          0           tf.clip_by_value_2[0][0]         \n",
      "__________________________________________________________________________________________________\n",
      "tf.clip_by_value_1 (TFOpLambda) (1, 1, 100)          0           tf.math.reduce_sum_1[0][0]       \n",
      "__________________________________________________________________________________________________\n",
      "tf.__operators__.add (TFOpLambd (1, 1, 100)          0           tf.math.sqrt[0][0]               \n",
      "__________________________________________________________________________________________________\n",
      "tf.__operators__.add_2 (TFOpLam (1, 1, 100)          0           tf.math.sqrt_2[0][0]             \n",
      "__________________________________________________________________________________________________\n",
      "tf.math.sqrt_1 (TFOpLambda)     (1, 1, 100)          0           tf.clip_by_value_1[0][0]         \n",
      "__________________________________________________________________________________________________\n",
      "tf.math.truediv (TFOpLambda)    (None, 1, 100)       0           terms_embedding_layer[0][0]      \n",
      "                                                                 tf.__operators__.add[0][0]       \n",
      "__________________________________________________________________________________________________\n",
      "tf.math.truediv_2 (TFOpLambda)  (None, 1, 100)       0           edge_type_embedding_layer[0][0]  \n",
      "                                                                 tf.__operators__.add_2[0][0]     \n",
      "__________________________________________________________________________________________________\n",
      "tf.__operators__.add_1 (TFOpLam (1, 1, 100)          0           tf.math.sqrt_1[0][0]             \n",
      "__________________________________________________________________________________________________\n",
      "tf.__operators__.add_3 (TFOpLam (None, 1, 100)       0           tf.math.truediv[0][0]            \n",
      "                                                                 tf.math.truediv_2[0][0]          \n",
      "__________________________________________________________________________________________________\n",
      "tf.math.truediv_1 (TFOpLambda)  (None, 1, 100)       0           terms_embedding_layer[1][0]      \n",
      "                                                                 tf.__operators__.add_1[0][0]     \n",
      "__________________________________________________________________________________________________\n",
      "tf.math.subtract (TFOpLambda)   (None, 1, 100)       0           tf.__operators__.add_3[0][0]     \n",
      "                                                                 tf.math.truediv_1[0][0]          \n",
      "__________________________________________________________________________________________________\n",
      "tf.math.square_3 (TFOpLambda)   (None, 1, 100)       0           tf.math.subtract[0][0]           \n",
      "__________________________________________________________________________________________________\n",
      "tf.math.reduce_sum_3 (TFOpLambd ()                   0           tf.math.square_3[0][0]           \n",
      "==================================================================================================\n",
      "Total params: 414,300\n",
      "Trainable params: 414,300\n",
      "Non-trainable params: 0\n",
      "__________________________________________________________________________________________________\n"
     ]
    }
   ],
   "source": [
    "model.summary()"
   ]
  },
  {
   "cell_type": "code",
   "execution_count": 5,
   "metadata": {
    "scrolled": false
   },
   "outputs": [
    {
     "data": {
      "application/vnd.jupyter.widget-view+json": {
       "model_id": "2e96165e96bf4ec2a2311fabbcfad847",
       "version_major": 2,
       "version_minor": 0
      },
      "text/plain": [
       "0epoch [00:00, ?epoch/s]"
      ]
     },
     "metadata": {},
     "output_type": "display_data"
    },
    {
     "data": {
      "application/vnd.jupyter.widget-view+json": {
       "model_id": "",
       "version_major": 2,
       "version_minor": 0
      },
      "text/plain": [
       "0batch [00:00, ?batch/s]"
      ]
     },
     "metadata": {},
     "output_type": "display_data"
    },
    {
     "data": {
      "text/html": [
       "<div>\n",
       "<style scoped>\n",
       "    .dataframe tbody tr th:only-of-type {\n",
       "        vertical-align: middle;\n",
       "    }\n",
       "\n",
       "    .dataframe tbody tr th {\n",
       "        vertical-align: top;\n",
       "    }\n",
       "\n",
       "    .dataframe thead th {\n",
       "        text-align: right;\n",
       "    }\n",
       "</style>\n",
       "<table border=\"1\" class=\"dataframe\">\n",
       "  <thead>\n",
       "    <tr style=\"text-align: right;\">\n",
       "      <th></th>\n",
       "      <th>loss</th>\n",
       "      <th>lr</th>\n",
       "    </tr>\n",
       "  </thead>\n",
       "  <tbody>\n",
       "    <tr>\n",
       "      <th>0</th>\n",
       "      <td>1.753407e-08</td>\n",
       "      <td>0.010</td>\n",
       "    </tr>\n",
       "    <tr>\n",
       "      <th>1</th>\n",
       "      <td>1.355670e-08</td>\n",
       "      <td>0.010</td>\n",
       "    </tr>\n",
       "    <tr>\n",
       "      <th>2</th>\n",
       "      <td>2.464854e-08</td>\n",
       "      <td>0.009</td>\n",
       "    </tr>\n",
       "  </tbody>\n",
       "</table>\n",
       "</div>"
      ],
      "text/plain": [
       "           loss     lr\n",
       "0  1.753407e-08  0.010\n",
       "1  1.355670e-08  0.010\n",
       "2  2.464854e-08  0.009"
      ]
     },
     "execution_count": 5,
     "metadata": {},
     "output_type": "execute_result"
    }
   ],
   "source": [
    "model.fit()"
   ]
  },
  {
   "cell_type": "code",
   "execution_count": 6,
   "metadata": {},
   "outputs": [
    {
     "data": {
      "text/plain": [
       "([array([1287, 4000, 1069, ...,  126,  496,  656], dtype=uint32),\n",
       "  array([ 588, 1042, 2726, ...,  264, 3971, 4139], dtype=uint32),\n",
       "  array([1, 1, 0, ..., 0, 1, 1], dtype=uint16)],\n",
       " array([False,  True, False, ..., False,  True,  True]))"
      ]
     },
     "execution_count": 6,
     "metadata": {},
     "output_type": "execute_result"
    }
   ],
   "source": [
    "from embiggen.sequences import EdgePredictionSequence\n",
    "\n",
    "EdgePredictionSequence(\n",
    "    graph=cora,\n",
    "    use_edge_types=True\n",
    ")[0]"
   ]
  },
  {
   "cell_type": "code",
   "execution_count": null,
   "metadata": {},
   "outputs": [],
   "source": []
  }
 ],
 "metadata": {
  "kernelspec": {
   "display_name": "Python 3",
   "language": "python",
   "name": "python3"
  },
  "language_info": {
   "codemirror_mode": {
    "name": "ipython",
    "version": 3
   },
   "file_extension": ".py",
   "mimetype": "text/x-python",
   "name": "python",
   "nbconvert_exporter": "python",
   "pygments_lexer": "ipython3",
   "version": "3.7.6"
  }
 },
 "nbformat": 4,
 "nbformat_minor": 4
}
